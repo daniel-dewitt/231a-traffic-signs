{
 "cells": [
  {
   "cell_type": "code",
   "execution_count": 1,
   "metadata": {
    "collapsed": false
   },
   "outputs": [],
   "source": [
    "import cv2\n",
    "import os\n",
    "import random\n",
    "import time\n",
    "import matplotlib\n",
    "import matplotlib.pyplot as plt\n",
    "import numpy as np\n",
    "from scipy.misc import imsave\n",
    "import tensorflow as tf\n",
    "from utils import *\n",
    "\n",
    "# Allow image embeding in notebook\n",
    "%matplotlib inline"
   ]
  },
  {
   "cell_type": "code",
   "execution_count": 3,
   "metadata": {
    "collapsed": false
   },
   "outputs": [],
   "source": [
    "def build_data(LISA_dir):\n",
    "    #reading annotation file\n",
    "    annotations = np.genfromtxt (LISA_dir + 'allAnnotations.csv', delimiter=\";\" ,dtype=str)\n",
    "    annotations = annotations[1:annotations.size] #trimming headings\n",
    "\n",
    "    #building array of filenames\n",
    "    filenames = annotations[:,0]\n",
    "\n",
    "    #building array of sign labels\n",
    "    labels = annotations[:,1]\n",
    "\n",
    "    #building dictionary to convert sign labels from strings to integer labels and back\n",
    "    names = set(labels)\n",
    "    values = np.arange(0,len(names))\n",
    "    mapping = dict(zip(names, values))\n",
    "    reverse = dict(zip(values, names))\n",
    "    mapping.update(reverse)\n",
    "\n",
    "    #converting names to labels\n",
    "    for i in range(0,labels.size):\n",
    "        labels[i] = mapping[labels[i]]\n",
    "    labels = labels.astype(np.int) #casting strings to ints\n",
    "\n",
    "    #building arrays of sign locations\n",
    "    upperLeft = annotations[:,2:4].astype(np.int) #x, y values of upper left corner\n",
    "    lowerRight = annotations[:,4:6].astype(np.int) #x, y values of lower right corner\n",
    "    \n",
    "    return filenames, labels, upperLeft, lowerRight, mapping"
   ]
  },
  {
   "cell_type": "code",
   "execution_count": 4,
   "metadata": {
    "collapsed": true
   },
   "outputs": [],
   "source": [
    "def build_signs(LISA_dir, filenames, lowerRight, upperLeft):\n",
    "    if not (os.path.exists('images32.npy')):\n",
    "        #building an array of only signs\n",
    "        images = []\n",
    "        for i in range(0,filenames.size):\n",
    "            #cropping signs from source images\n",
    "            path = LISA_dir + filenames[i]\n",
    "            img = cv2.imread(path)\n",
    "            sign = img[upperLeft[i,1]:lowerRight[i,1], upperLeft[i,0]:lowerRight[i,0]] #cropping to just the sign\n",
    "\n",
    "            #increasing contrast\n",
    "            sign_yuv = cv2.cvtColor(sign, cv2.COLOR_BGR2YUV) #converting to YUV\n",
    "            sign_yuv[:,:,0] = cv2.equalizeHist(sign_yuv[:,:,0]) #equalize the histogram of the Y channel\n",
    "            sign = cv2.cvtColor(sign_yuv, cv2.COLOR_YUV2BGR) #converting back to BGR\n",
    "\n",
    "            #adding to array\n",
    "            images.append(sign)\n",
    "\n",
    "        images = np.array(images)\n",
    "\n",
    "        # resizing images to 32x32\n",
    "        images32 = [cv2.resize(image, (32, 32)) for image in images]\n",
    "        images32 = np.array(images32)\n",
    "        np.save('images32.npy', images32)\n",
    "    else:\n",
    "        images32 = np.load('images32.npy')\n",
    "    \n",
    "    return images32"
   ]
  },
  {
   "cell_type": "code",
   "execution_count": 5,
   "metadata": {
    "collapsed": false
   },
   "outputs": [],
   "source": [
    "def build_negatives(LISA_dir, num_samples):\n",
    "    if not (os.path.exists('negatives.npy')):\n",
    "        #building an array of negatives\n",
    "        negatives = []\n",
    "        neg_paths = [os.path.join(LISA_dir + 'negatives/negativePics/', f) for f in os.listdir(LISA_dir + 'negatives/negativePics/') if f.endswith('.png')]\n",
    "        num_samples = 7 #lower to use fewer source images\n",
    "\n",
    "        fail_x = []\n",
    "        fail_y = []\n",
    "        fail_im = []\n",
    "\n",
    "        for i in range(0,len(neg_paths)):\n",
    "            #cropping random 32x32 windows\n",
    "            img = cv2.imread(neg_paths[i])\n",
    "            for j in range(0,num_samples):\n",
    "                randx = np.random.randint(0,img.shape[1]-32)\n",
    "                randy = np.random.randint(0,img.shape[0]-32)\n",
    "                fail_x = randx\n",
    "                fail_y = randy\n",
    "                fail_im = img\n",
    "                neg = img[randy:randy+32, randx:randx+32] #cropping random region\n",
    "\n",
    "                #increasing contrast\n",
    "                neg_yuv = cv2.cvtColor(neg, cv2.COLOR_BGR2YUV) #converting to YUV\n",
    "                neg_yuv[:,:,0] = cv2.equalizeHist(neg_yuv[:,:,0]) #equalize the histogram of the Y channel\n",
    "                neg = cv2.cvtColor(neg_yuv, cv2.COLOR_YUV2BGR) #converting back to BGR\n",
    "\n",
    "                #adding to array\n",
    "                negatives.append(neg)\n",
    "\n",
    "        negatives = np.array(negatives)\n",
    "        np.save('negatives.npy', negatives)\n",
    "    else:\n",
    "        negatives = np.load('negatives.npy')\n",
    "    \n",
    "    return negatives"
   ]
  },
  {
   "cell_type": "code",
   "execution_count": 6,
   "metadata": {
    "collapsed": false
   },
   "outputs": [],
   "source": [
    "LISA_dir = 'C:/Users/Daniel/Documents/Stanford/2016-2017 - Q3 - Spring/Computer Vision/Python/Project/LISA/'\n",
    "filenames, labels, upperLeft, lowerRight, mapping = build_data(LISA_dir)\n",
    "images32 = build_signs(LISA_dir,filenames,lowerRight,upperLeft)\n",
    "negatives = build_negatives(LISA_dir,8)"
   ]
  },
  {
   "cell_type": "code",
   "execution_count": 7,
   "metadata": {
    "collapsed": false
   },
   "outputs": [],
   "source": [
    "#creating a tensorflow graph to store the model\n",
    "graph = tf.Graph()\n",
    "\n",
    "#initializing model in the graph\n",
    "with graph.as_default():\n",
    "    # defining placeholders for inputs and labels\n",
    "    images_ph = tf.placeholder(tf.float32, [None, 32, 32, 3])\n",
    "    labels_ph = tf.placeholder(tf.int32, [None])\n",
    "\n",
    "    #flattening input\n",
    "    images_flat = tf.contrib.layers.flatten(images_ph)\n",
    "\n",
    "    # defining fully connected layer\n",
    "    logits = tf.contrib.layers.fully_connected(images_flat, 62, tf.nn.crelu) #generating logits\n",
    "\n",
    "    #converting logits to label indices (int)\n",
    "    predicted_labels = tf.argmax(logits, 1)\n",
    "\n",
    "    #defining loss function. \n",
    "    loss = tf.reduce_mean(tf.nn.sparse_softmax_cross_entropy_with_logits(labels=labels_ph, logits=logits))\n",
    "\n",
    "    #creating training optimizer\n",
    "    train = tf.train.AdamOptimizer(learning_rate=0.001).minimize(loss)\n",
    "\n",
    "    #initializating optimizer to execute before training.\n",
    "    init = tf.global_variables_initializer()"
   ]
  },
  {
   "cell_type": "code",
   "execution_count": 8,
   "metadata": {
    "collapsed": true
   },
   "outputs": [],
   "source": [
    "#BEGIN RECOGNITION SECTION"
   ]
  },
  {
   "cell_type": "code",
   "execution_count": 9,
   "metadata": {
    "collapsed": false
   },
   "outputs": [],
   "source": [
    "# Create a session to run the graph we created.\n",
    "session = tf.Session(graph=graph)\n",
    "\n",
    "# First step is always to initialize all variables. \n",
    "# We don't care about the return value, though. It's None.\n",
    "session.run([init]);\n",
    "\n",
    "#declaring variables (index from i1 to i2 to only use some of the data for training)\n",
    "labels_a = labels\n",
    "images_a = images32\n",
    "\n",
    "lossv = np.array([])\n",
    "accuracyv = np.array([])"
   ]
  },
  {
   "cell_type": "code",
   "execution_count": 10,
   "metadata": {
    "collapsed": false,
    "scrolled": true
   },
   "outputs": [
    {
     "name": "stdout",
     "output_type": "stream",
     "text": [
      "Loss:  380.498\n",
      "Loss:  413.572\n",
      "Loss:  259.962\n",
      "Loss:  142.338\n",
      "Loss:  100.89\n",
      "Loss:  79.5908\n"
     ]
    }
   ],
   "source": [
    "#training neural network\n",
    "for i in range(51):\n",
    "    #computing, recording loss\n",
    "    _, loss_value = session.run([train, loss], feed_dict={images_ph: images_a, labels_ph: labels_a})\n",
    "    lossv = np.append(lossv, loss_value)\n",
    "\n",
    "    #picking ten random images\n",
    "    sample_indexes = random.sample(range(len(images32)), 10)\n",
    "    sample_images = [images32[i] for i in sample_indexes]\n",
    "    sample_labels = np.array([labels[i] for i in sample_indexes])\n",
    "\n",
    "    # Run the \"predicted_labels\" optimizer\n",
    "    predicted = session.run([predicted_labels], feed_dict={images_ph: sample_images})[0]\n",
    "\n",
    "    accuracyv = np.append(accuracyv,np.sum(sample_labels == predicted)/10)\n",
    "    \n",
    "    if i % 10 == 0:\n",
    "        print(\"Loss: \", loss_value)"
   ]
  },
  {
   "cell_type": "code",
   "execution_count": null,
   "metadata": {
    "collapsed": false
   },
   "outputs": [],
   "source": [
    "#plot accuracy and loss of training\n",
    "x = np.arange(0,lossv.size)\n",
    "plt.plot(x,lossv/np.max(lossv),x,accuracyv)\n",
    "plt.legend(['Loss', 'Accuracy'],loc=4)\n",
    "plt.xlabel('Training sessions')\n",
    "plt.show()"
   ]
  },
  {
   "cell_type": "code",
   "execution_count": null,
   "metadata": {
    "collapsed": false
   },
   "outputs": [],
   "source": [
    "# Pick 10 random images\n",
    "sample_indexes = random.sample(range(len(images32)), 500) #index images32 from i1 to i2 to use unseen data\n",
    "sample_images = [images32[i] for i in sample_indexes]\n",
    "sample_labels = np.array([labels[i] for i in sample_indexes])\n",
    "\n",
    "# Run the \"predicted_labels\" op.\n",
    "t0 = time.time()\n",
    "predicted = session.run([predicted_labels], feed_dict={images_ph: sample_images})[0]\n",
    "t1 = time.time()\n",
    "\n",
    "print('Accuracy: ' + str(np.sum(sample_labels == predicted)/5) + \"%\")\n",
    "print('Speed: ' + str(t1-t0))\n",
    "\n",
    "# Display the predictions and the ground truth visually.\n",
    "fig = plt.figure(figsize=(10, 10))\n",
    "for i in range(10):\n",
    "    truth = sample_labels[i]\n",
    "    prediction = predicted[i]\n",
    "    plt.subplot(5, 2,1+i)\n",
    "    plt.axis('off')\n",
    "    color='green' if truth == prediction else 'red'\n",
    "    plt.text(40, 10, \"Truth: {0}\\nGuess: {1}\".format(mapping[int(truth)], mapping[prediction]), \n",
    "             fontsize=12, color=color)\n",
    "    plt.imshow(sample_images[i])"
   ]
  },
  {
   "cell_type": "code",
   "execution_count": null,
   "metadata": {
    "collapsed": true
   },
   "outputs": [],
   "source": [
    "#NEURAL DETECTOR BELOW"
   ]
  },
  {
   "cell_type": "code",
   "execution_count": 11,
   "metadata": {
    "collapsed": false
   },
   "outputs": [],
   "source": [
    "# Create a session to run the graph we created.\n",
    "session = tf.Session(graph=graph)\n",
    "\n",
    "# First step is always to initialize all variables. \n",
    "# We don't care about the return value, though. It's None.\n",
    "session.run([init]);\n",
    "\n",
    "#declaring variables (index from i1 to i2 to only use some of the data for training)\n",
    "labels_a = np.hstack((np.ones((images32.shape[0])),np.zeros((negatives.shape[0]))))\n",
    "images_a = np.vstack((images32,negatives))\n",
    "\n",
    "lossv = np.array([])\n",
    "accuracyv = np.array([])"
   ]
  },
  {
   "cell_type": "code",
   "execution_count": 12,
   "metadata": {
    "collapsed": false,
    "scrolled": true
   },
   "outputs": [
    {
     "ename": "MemoryError",
     "evalue": "",
     "output_type": "error",
     "traceback": [
      "\u001b[0;31m---------------------------------------------------------------------------\u001b[0m",
      "\u001b[0;31mMemoryError\u001b[0m                               Traceback (most recent call last)",
      "\u001b[0;32m<ipython-input-12-0211dfdeafe2>\u001b[0m in \u001b[0;36m<module>\u001b[0;34m()\u001b[0m\n\u001b[1;32m      2\u001b[0m \u001b[1;32mfor\u001b[0m \u001b[0mi\u001b[0m \u001b[1;32min\u001b[0m \u001b[0mrange\u001b[0m\u001b[1;33m(\u001b[0m\u001b[1;36m11\u001b[0m\u001b[1;33m)\u001b[0m\u001b[1;33m:\u001b[0m\u001b[1;33m\u001b[0m\u001b[0m\n\u001b[1;32m      3\u001b[0m     \u001b[1;31m#computing, recording loss\u001b[0m\u001b[1;33m\u001b[0m\u001b[1;33m\u001b[0m\u001b[0m\n\u001b[0;32m----> 4\u001b[0;31m     \u001b[0m_\u001b[0m\u001b[1;33m,\u001b[0m \u001b[0mloss_value\u001b[0m \u001b[1;33m=\u001b[0m \u001b[0msession\u001b[0m\u001b[1;33m.\u001b[0m\u001b[0mrun\u001b[0m\u001b[1;33m(\u001b[0m\u001b[1;33m[\u001b[0m\u001b[0mtrain\u001b[0m\u001b[1;33m,\u001b[0m \u001b[0mloss\u001b[0m\u001b[1;33m]\u001b[0m\u001b[1;33m,\u001b[0m \u001b[0mfeed_dict\u001b[0m\u001b[1;33m=\u001b[0m\u001b[1;33m{\u001b[0m\u001b[0mimages_ph\u001b[0m\u001b[1;33m:\u001b[0m \u001b[0mimages_a\u001b[0m\u001b[1;33m,\u001b[0m \u001b[0mlabels_ph\u001b[0m\u001b[1;33m:\u001b[0m \u001b[0mlabels_a\u001b[0m\u001b[1;33m}\u001b[0m\u001b[1;33m)\u001b[0m\u001b[1;33m\u001b[0m\u001b[0m\n\u001b[0m\u001b[1;32m      5\u001b[0m     \u001b[0mlossv\u001b[0m \u001b[1;33m=\u001b[0m \u001b[0mnp\u001b[0m\u001b[1;33m.\u001b[0m\u001b[0mappend\u001b[0m\u001b[1;33m(\u001b[0m\u001b[0mlossv\u001b[0m\u001b[1;33m,\u001b[0m \u001b[0mloss_value\u001b[0m\u001b[1;33m)\u001b[0m\u001b[1;33m\u001b[0m\u001b[0m\n\u001b[1;32m      6\u001b[0m \u001b[1;33m\u001b[0m\u001b[0m\n",
      "\u001b[0;32mC:\\Users\\Daniel\\Anaconda3\\lib\\site-packages\\tensorflow\\python\\client\\session.py\u001b[0m in \u001b[0;36mrun\u001b[0;34m(self, fetches, feed_dict, options, run_metadata)\u001b[0m\n\u001b[1;32m    765\u001b[0m     \u001b[1;32mtry\u001b[0m\u001b[1;33m:\u001b[0m\u001b[1;33m\u001b[0m\u001b[0m\n\u001b[1;32m    766\u001b[0m       result = self._run(None, fetches, feed_dict, options_ptr,\n\u001b[0;32m--> 767\u001b[0;31m                          run_metadata_ptr)\n\u001b[0m\u001b[1;32m    768\u001b[0m       \u001b[1;32mif\u001b[0m \u001b[0mrun_metadata\u001b[0m\u001b[1;33m:\u001b[0m\u001b[1;33m\u001b[0m\u001b[0m\n\u001b[1;32m    769\u001b[0m         \u001b[0mproto_data\u001b[0m \u001b[1;33m=\u001b[0m \u001b[0mtf_session\u001b[0m\u001b[1;33m.\u001b[0m\u001b[0mTF_GetBuffer\u001b[0m\u001b[1;33m(\u001b[0m\u001b[0mrun_metadata_ptr\u001b[0m\u001b[1;33m)\u001b[0m\u001b[1;33m\u001b[0m\u001b[0m\n",
      "\u001b[0;32mC:\\Users\\Daniel\\Anaconda3\\lib\\site-packages\\tensorflow\\python\\client\\session.py\u001b[0m in \u001b[0;36m_run\u001b[0;34m(self, handle, fetches, feed_dict, options, run_metadata)\u001b[0m\n\u001b[1;32m    936\u001b[0m                 ' to a larger type (e.g. int64).')\n\u001b[1;32m    937\u001b[0m \u001b[1;33m\u001b[0m\u001b[0m\n\u001b[0;32m--> 938\u001b[0;31m           \u001b[0mnp_val\u001b[0m \u001b[1;33m=\u001b[0m \u001b[0mnp\u001b[0m\u001b[1;33m.\u001b[0m\u001b[0masarray\u001b[0m\u001b[1;33m(\u001b[0m\u001b[0msubfeed_val\u001b[0m\u001b[1;33m,\u001b[0m \u001b[0mdtype\u001b[0m\u001b[1;33m=\u001b[0m\u001b[0msubfeed_dtype\u001b[0m\u001b[1;33m)\u001b[0m\u001b[1;33m\u001b[0m\u001b[0m\n\u001b[0m\u001b[1;32m    939\u001b[0m \u001b[1;33m\u001b[0m\u001b[0m\n\u001b[1;32m    940\u001b[0m           \u001b[1;32mif\u001b[0m \u001b[1;32mnot\u001b[0m \u001b[0msubfeed_t\u001b[0m\u001b[1;33m.\u001b[0m\u001b[0mget_shape\u001b[0m\u001b[1;33m(\u001b[0m\u001b[1;33m)\u001b[0m\u001b[1;33m.\u001b[0m\u001b[0mis_compatible_with\u001b[0m\u001b[1;33m(\u001b[0m\u001b[0mnp_val\u001b[0m\u001b[1;33m.\u001b[0m\u001b[0mshape\u001b[0m\u001b[1;33m)\u001b[0m\u001b[1;33m:\u001b[0m\u001b[1;33m\u001b[0m\u001b[0m\n",
      "\u001b[0;32mC:\\Users\\Daniel\\Anaconda3\\lib\\site-packages\\numpy\\core\\numeric.py\u001b[0m in \u001b[0;36masarray\u001b[0;34m(a, dtype, order)\u001b[0m\n\u001b[1;32m    480\u001b[0m \u001b[1;33m\u001b[0m\u001b[0m\n\u001b[1;32m    481\u001b[0m     \"\"\"\n\u001b[0;32m--> 482\u001b[0;31m     \u001b[1;32mreturn\u001b[0m \u001b[0marray\u001b[0m\u001b[1;33m(\u001b[0m\u001b[0ma\u001b[0m\u001b[1;33m,\u001b[0m \u001b[0mdtype\u001b[0m\u001b[1;33m,\u001b[0m \u001b[0mcopy\u001b[0m\u001b[1;33m=\u001b[0m\u001b[1;32mFalse\u001b[0m\u001b[1;33m,\u001b[0m \u001b[0morder\u001b[0m\u001b[1;33m=\u001b[0m\u001b[0morder\u001b[0m\u001b[1;33m)\u001b[0m\u001b[1;33m\u001b[0m\u001b[0m\n\u001b[0m\u001b[1;32m    483\u001b[0m \u001b[1;33m\u001b[0m\u001b[0m\n\u001b[1;32m    484\u001b[0m \u001b[1;32mdef\u001b[0m \u001b[0masanyarray\u001b[0m\u001b[1;33m(\u001b[0m\u001b[0ma\u001b[0m\u001b[1;33m,\u001b[0m \u001b[0mdtype\u001b[0m\u001b[1;33m=\u001b[0m\u001b[1;32mNone\u001b[0m\u001b[1;33m,\u001b[0m \u001b[0morder\u001b[0m\u001b[1;33m=\u001b[0m\u001b[1;32mNone\u001b[0m\u001b[1;33m)\u001b[0m\u001b[1;33m:\u001b[0m\u001b[1;33m\u001b[0m\u001b[0m\n",
      "\u001b[0;31mMemoryError\u001b[0m: "
     ]
    }
   ],
   "source": [
    "#training neural network\n",
    "for i in range(11):\n",
    "    #computing, recording loss\n",
    "    _, loss_value = session.run([train, loss], feed_dict={images_ph: images_a, labels_ph: labels_a})\n",
    "    lossv = np.append(lossv, loss_value)\n",
    "    \n",
    "    #computing, recording accuracy\n",
    "    #picking ten random images\n",
    "    sample_indexes = random.sample(range(len(images_a)), 10)\n",
    "    sample_images = [images_a[i] for i in sample_indexes]\n",
    "    sample_labels = np.array([labels_a[i] for i in sample_indexes])\n",
    "\n",
    "    # Run the \"predicted_labels\" optimizer\n",
    "    predicted = session.run([predicted_labels], feed_dict={images_ph: sample_images})[0]\n",
    "\n",
    "    accuracyv = np.append(accuracyv,np.sum(sample_labels == predicted)/10)\n",
    "    \n",
    "    if i % 5 == 0:\n",
    "        print(\"Loss: \", loss_value)"
   ]
  },
  {
   "cell_type": "code",
   "execution_count": null,
   "metadata": {
    "collapsed": false
   },
   "outputs": [],
   "source": [
    "#plot accuracy and loss of training\n",
    "x = np.arange(0,lossv.size)\n",
    "plt.plot(x,lossv/np.max(lossv),x,accuracyv)\n",
    "plt.legend(['Loss', 'Accuracy'],loc=4)\n",
    "plt.xlabel('Training sessions')\n",
    "plt.show()"
   ]
  },
  {
   "cell_type": "code",
   "execution_count": null,
   "metadata": {
    "collapsed": true
   },
   "outputs": [],
   "source": []
  },
  {
   "cell_type": "code",
   "execution_count": null,
   "metadata": {
    "collapsed": false
   },
   "outputs": [],
   "source": [
    "#run sliding window\n",
    "im = cv2.imread(r'LISA\\vid1\\frameAnnotations-vid_cmp1.avi_annotations\\stop_1323812801.avi_image6.png')\n",
    "im_yuv = cv2.cvtColor(im, cv2.COLOR_BGR2YUV) #converting to YUV\n",
    "im_yuv[:,:,0] = cv2.equalizeHist(im_yuv[:,:,0]) #equalize the histogram of the Y channel\n",
    "im = cv2.cvtColor(im_yuv, cv2.COLOR_YUV2BGR) #converting back to BGR\n",
    "\n",
    "stride = 8\n",
    "windows = []\n",
    "bboxes = []\n",
    "\n",
    "for i in range(0, im.shape[0]-32, stride):\n",
    "        for j in range(0, im.shape[0]-32, stride):\n",
    "            window = im[i:i+32, j:j+32]\n",
    "            windows.append(window)\n",
    "            bboxes.append([i,j])\n",
    "            \n",
    "windows = np.array(windows)\n",
    "bboxes = np.array(bboxes)"
   ]
  },
  {
   "cell_type": "code",
   "execution_count": null,
   "metadata": {
    "collapsed": false
   },
   "outputs": [],
   "source": [
    "t0 = time.time()\n",
    "predicted = session.run([predicted_labels], feed_dict={images_ph: windows})[0]\n",
    "detections = np.where(predicted == 1)[0]\n",
    "bboxes = bboxes[detections]\n",
    "t1 = time.time()\n",
    "print('Speed: ' + str(t1-t0))"
   ]
  },
  {
   "cell_type": "code",
   "execution_count": null,
   "metadata": {
    "collapsed": false
   },
   "outputs": [],
   "source": [
    "fig = plt.figure()\n",
    "ax = fig.add_subplot(111)\n",
    "for i in range(bboxes.shape[0]):\n",
    "    ax.add_patch(\n",
    "        patches.Rectangle(\n",
    "            (bboxes[i,0], bboxes[i,1]),\n",
    "            32,\n",
    "            32,\n",
    "            fill=False,\n",
    "            edgecolor='yellow'\n",
    "        )\n",
    "    )\n",
    "plt.imshow(im, 'gray')"
   ]
  },
  {
   "cell_type": "code",
   "execution_count": null,
   "metadata": {
    "collapsed": true
   },
   "outputs": [],
   "source": [
    "#HAAR DETECTION BELOW"
   ]
  },
  {
   "cell_type": "code",
   "execution_count": 15,
   "metadata": {
    "collapsed": false
   },
   "outputs": [
    {
     "name": "stdout",
     "output_type": "stream",
     "text": [
      "Speed: 0.10100579261779785\n"
     ]
    }
   ],
   "source": [
    "sign_cascade = cv2.CascadeClassifier('sign_classifier.xml')\n",
    "\n",
    "t0 = time.time()\n",
    "im = cv2.imread(r'LISA\\vid1\\frameAnnotations-vid_cmp1.avi_annotations\\stop_1323812801.avi_image6.png')\n",
    "gray = cv2.cvtColor(im, cv2.COLOR_BGR2GRAY)\n",
    "\n",
    "signs = sign_cascade.detectMultiScale(gray, 1.3, 5)\n",
    "for (x,y,w,h) in signs:\n",
    "    cv2.rectangle(im,(x,y),(x+w,y+h),(0,255,255),2)\n",
    "    roi_gray = gray[y:y+h, x:x+w]\n",
    "    roi_color = im[y:y+h, x:x+w]\n",
    "\n",
    "t1 = time.time()\n",
    "print('Speed: ' + str(t1-t0))\n",
    "\n",
    "cv2.imshow('Image', im)\n",
    "cv2.waitKey(0)\n",
    "cv2.destroyAllWindows()\n",
    "\n"
   ]
  },
  {
   "cell_type": "code",
   "execution_count": null,
   "metadata": {
    "collapsed": true
   },
   "outputs": [],
   "source": []
  }
 ],
 "metadata": {
  "anaconda-cloud": {},
  "kernelspec": {
   "display_name": "Python [default]",
   "language": "python",
   "name": "python3"
  },
  "language_info": {
   "codemirror_mode": {
    "name": "ipython",
    "version": 3
   },
   "file_extension": ".py",
   "mimetype": "text/x-python",
   "name": "python",
   "nbconvert_exporter": "python",
   "pygments_lexer": "ipython3",
   "version": "3.5.2"
  }
 },
 "nbformat": 4,
 "nbformat_minor": 2
}
