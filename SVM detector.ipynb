{
 "cells": [
  {
   "cell_type": "code",
   "execution_count": null,
   "metadata": {
    "collapsed": true
   },
   "outputs": [],
   "source": [
    "import cv2\n",
    "import numpy as np\n",
    "import os\n",
    "from sklearn.svm import LinearSVC\n",
    "import matplotlib.pyplot as plt\n",
    "from scipy.ndimage import imread\n",
    "from utils import *"
   ]
  },
  {
   "cell_type": "code",
   "execution_count": null,
   "metadata": {
    "collapsed": true
   },
   "outputs": [],
   "source": [
   ]
  },
  {
   "cell_type": "code",
   "execution_count": null,
   "metadata": {
    "collapsed": true
   },
   "outputs": [],
   "source": [
    "'''\n",
    "RUN_DETECTOR Given an image, runs the SVM detector and outputs bounding\n",
    "boxes and scores\n",
    "\n",
    "Arguments:\n",
    "    im - the image matrix\n",
    "\n",
    "    clf - the sklearn SVM object. You will probably use the \n",
    "        decision_function() method to determine whether the object is \n",
    "        a face or not.\n",
    "        http://scikit-learn.org/stable/modules/generated/sklearn.svm.SVC.html\n",
    "\n",
    "    window_size - an array which contains the height and width of the sliding\n",
    "    \twindow\n",
    "\n",
    "    cell_size - each cell will be of size (cell_size, cell_size) pixels\n",
    "\n",
    "    block_size - each block will be of size (block_size, block_size) cells\n",
    "\n",
    "    nbins - number of histogram bins\n",
    "\n",
    "Returns:\n",
    "    bboxes - D x 4 bounding boxes that tell [xmin ymin width height] per bounding\n",
    "    \tboxQD\n",
    "\n",
    "    scores - the SVM scores associated with each bounding box in bboxes\n",
    "\n",
    "You can compute the HoG features using the compute_hog_features() method\n",
    "that you implemented in PS3. We have provided an implementation in utils.py,\n",
    "but feel free to use your own implementation. You will use the HoG features\n",
    "in a sliding window based detection approach.\n",
    "\n",
    "Recall that using a sliding window is to take a certain section (called the \n",
    "window) of the image and compute a score for it. This window then \"slides\"\n",
    "across the image, shifting by either n pixels up or down (where n is called \n",
    "the window's stride). \n",
    "\n",
    "Using a sliding window approach (with stride of block_size * cell_size / 2),\n",
    "compute the SVM score for that window. If it's greater than 1 (the SVM decision\n",
    "boundary), add it to the bounding box list. At the very end, after implementing \n",
    "nonmaximal suppression, you will filter the nonmaximal bounding boxes out.\n",
    "'''\n",
    "def run_detector(im, clf, window_size, cell_size, block_size, nbins, thresh=1):\n",
    "    W = window_size[0]\n",
    "    H = window_size[1]\n",
    "    stride = int(block_size * cell_size / 2)\n",
    "    \n",
    "    bboxes = []\n",
    "    scores = []\n",
    "    \n",
    "    for i in range(0,im.shape[0] - H,stride):\n",
    "        for j in range(0,im.shape[0] - W,stride):\n",
    "            features = compute_hog_features( im[i:i+H, j:j+W], cell_size, block_size, nbins)\n",
    "            score = clf.decision_function(features.reshape(1,-1))\n",
    "            if(score > -1.0):\n",
    "                bboxes.append([j,i,W,H])\n",
    "                scores.append(score)\n",
    "    \n",
    "    \n",
    "    bboxes = np.array(bboxes)\n",
    "    bboxes = np.reshape(bboxes,(bboxes.size/4,4))\n",
    "    scores = np.array(scores)\n",
    "    return bboxes, scores"
   ]
  },
  {
   "cell_type": "code",
   "execution_count": null,
   "metadata": {
    "collapsed": false
   },
   "outputs": [],
   "source": [
    "'''\n",
    "NON_MAX_SUPPRESSION Given a list of bounding boxes, returns a subset that\n",
    "uses high confidence detections to suppresses other overlapping\n",
    "detections. Detections can partially overlap, but the\n",
    "center of one detection can not be within another detection.\n",
    "\n",
    "Arguments:\n",
    "    bboxes - ndarray of size (N,4) where N is the number of detections,\n",
    "        and each row is [x_min, y_min, width, height]\n",
    "    \n",
    "    confidences - ndarray of size (N, 1) of the SVM confidence of each bounding\n",
    "    \tbox.\n",
    "\n",
    "    img_size - [height,width] dimensions of the image.\n",
    "\n",
    "Returns:\n",
    "    nms_bboxes -  ndarray of size (N, 4) where N is the number of non-overlapping\n",
    "        detections, and each row is [x_min, y_min, width, height]. Each bounding box\n",
    "        should not be overlapping significantly with any other bounding box.\n",
    "\n",
    "In order to get the list of maximal bounding boxes, first sort bboxes by \n",
    "confidences. Then go through each of the bboxes in order, adding them to\n",
    "the list if they do not significantly overlap with any already in the list. \n",
    "A significant overlap is if the center of one bbox is in the other bbox.\n",
    "'''\n",
    "def non_max_suppression(bboxes, confidences):\n",
    "    indices = np.argsort(confidences,axis=0)[::-1] #indices that sort confidences in reverse order\n",
    "    confidences = confidences[indices]\n",
    "    bboxes = bboxes[indices].reshape((bboxes.shape[0],4))\n",
    "    nms_bboxes = bboxes[0,:].reshape((1,4))\n",
    "    \n",
    "    for i in range(1,confidences.size):\n",
    "        center = [bboxes[i,0]+bboxes[i,2]/2 , bboxes[i,1]+bboxes[i,3]/2]\n",
    "        for j in range(0,nms_bboxes.shape[0]):\n",
    "            #if not within width or height of bounding box, add to array of bounding boxes\n",
    "            if not ((center[0] > nms_bboxes[j,0] and center[0] < nms_bboxes[j,0] + nms_bboxes[j,2]) and\n",
    "                (center[1] > nms_bboxes[j,1] and center[1] < nms_bboxes[j,1] + nms_bboxes[j,3])):\n",
    "                nms_bboxes = np.append(nms_bboxes,bboxes[j,:].reshape(1,4),axis=1)\n",
    "            \n",
    "    return nms_bboxes"
   ]
  },
  {
   "cell_type": "code",
   "execution_count": null,
   "metadata": {
    "collapsed": false,
    "scrolled": true
   },
   "outputs": [],
   "source": [
    "block_size = 6\n",
    "cell_size = 3\n",
    "nbins = 9\n",
    "window_size = np.array([32, 32])\n",
    "\n",
    "# compute or load features for training\n",
    "if not (os.path.exists('features_pos.npy') and os.path.exists('features_neg.npy')):\n",
    "    features_pos = get_positive_features('cropped_signs/stop_signs', cell_size, window_size, block_size, nbins)\n",
    "    num_negative_examples = 10000\n",
    "    features_neg = get_random_negative_features('LISA/negatives/negativePics', cell_size, window_size, block_size, nbins, num_negative_examples)\n",
    "    np.save('features_pos.npy', features_pos)\n",
    "    np.save('features_neg.npy', features_neg)\n",
    "else:\n",
    "    features_pos = np.load('features_pos.npy')\n",
    "    features_neg = np.load('features_neg.npy')\n",
    "\n",
    "X = np.vstack((features_pos, features_neg))\n",
    "Y = np.hstack((np.ones(len(features_pos)), np.zeros(len(features_neg))))"
   ]
  },
  {
   "cell_type": "code",
   "execution_count": null,
   "metadata": {
    "collapsed": false
   },
   "outputs": [],
   "source": [
    "# Train the SVM\n",
    "clf = LinearSVC(C=1, tol=1e-6, max_iter=10000, fit_intercept=True, loss='squared_hinge')\n",
    "clf.fit(X, Y)\n",
    "score = clf.score(X, Y)"
   ]
  },
  {
   "cell_type": "code",
   "execution_count": null,
   "metadata": {
    "collapsed": false,
    "scrolled": true
   },
   "outputs": [],
   "source": [
    "# Sliding window detector\n",
    "im = cv2.imread(r'LISA\\vid1\\frameAnnotations-vid_cmp1.avi_annotations\\stop_1323812801.avi_image4.png')\n",
    "im_yuv = cv2.cvtColor(im, cv2.COLOR_BGR2YUV) #converting to YUV\n",
    "im_yuv[:,:,0] = cv2.equalizeHist(im_yuv[:,:,0]) #equalize the histogram of the Y channel\n",
    "im = cv2.cvtColor(im_yuv, cv2.COLOR_YUV2BGR) #converting back to BGR\n",
    "im = cv2.cvtColor(im_yuv, cv2.COLOR_BGR2GRAY) #flattening\n",
    "bboxes, scores = run_detector(im, clf, window_size, cell_size, block_size, nbins)\n",
    "plot_img_with_bbox(im, bboxes, 'Without nonmaximal suppresion')\n",
    "plt.show()\n",
    "\n",
    "# Nonmaximal suppression\n",
    "bboxes = non_max_suppression(bboxes, scores)\n",
    "plot_img_with_bbox(im, bboxes, 'With nonmaximal suppresion')\n",
    "plt.show()"
   ]
  },
  {
   "cell_type": "code",
   "execution_count": null,
   "metadata": {
    "collapsed": false
   },
   "outputs": [],
   "source": [
    "bboxes, scores = run_detector(im, clf, window_size, cell_size, block_size, nbins)\n",
    "plot_img_with_bbox(im, bboxes, 'Detected Signs')\n",
    "plt.show()"
   ]
  }
 ],
 "metadata": {
  "anaconda-cloud": {},
  "kernelspec": {
   "display_name": "Python [default]",
   "language": "python",
   "name": "python3"
  },
  "language_info": {
   "codemirror_mode": {
    "name": "ipython",
    "version": 3
   },
   "file_extension": ".py",
   "mimetype": "text/x-python",
   "name": "python",
   "nbconvert_exporter": "python",
   "pygments_lexer": "ipython3",
   "version": "3.5.2"
  }
 },
 "nbformat": 4,
 "nbformat_minor": 1
}
